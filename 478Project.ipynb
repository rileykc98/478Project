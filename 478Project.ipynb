{
  "nbformat": 4,
  "nbformat_minor": 0,
  "metadata": {
    "colab": {
      "name": "478Project.ipynb",
      "provenance": [],
      "authorship_tag": "ABX9TyPlTTNyxNNnfoFswX2ht5Ko",
      "include_colab_link": true
    },
    "kernelspec": {
      "name": "python3",
      "display_name": "Python 3"
    },
    "language_info": {
      "name": "python"
    },
    "accelerator": "GPU"
  },
  "cells": [
    {
      "cell_type": "markdown",
      "metadata": {
        "id": "view-in-github",
        "colab_type": "text"
      },
      "source": [
        "<a href=\"https://colab.research.google.com/github/rileykc98/478Project/blob/main/478Project.ipynb\" target=\"_parent\"><img src=\"https://colab.research.google.com/assets/colab-badge.svg\" alt=\"Open In Colab\"/></a>"
      ]
    },
    {
      "cell_type": "code",
      "execution_count": 1,
      "metadata": {
        "id": "I-6Agt2oCH7P"
      },
      "outputs": [],
      "source": [
        "import tensorflow.keras as tf\n",
        "from tensorflow.keras.datasets import fashion_mnist\n",
        "from tensorflow.keras.models import Sequential\n",
        "from tensorflow.keras.layers import Conv2D, MaxPooling2D, Dense, Dropout, Flatten\n",
        "from tensorflow.keras import backend\n",
        "\n",
        "import matplotlib.pyplot as plt\n",
        "import numpy as np\n",
        "\n"
      ]
    },
    {
      "cell_type": "code",
      "source": [
        "(x_train, y_train), (x_test, y_test) = fashion_mnist.load_data()\n",
        "print(\"Shape of x_train: {}\".format(x_train.shape))\n",
        "print(\"Shape of y_train: {}\".format(y_train.shape))\n",
        "print(\"Shape of x_test: {}\".format(x_test.shape))\n",
        "print(\"Shape of y_test: {}\".format(y_test.shape))"
      ],
      "metadata": {
        "colab": {
          "base_uri": "https://localhost:8080/"
        },
        "id": "Hho_TzNHEXsM",
        "outputId": "fd3f8dd5-c5ac-4fd2-eadf-343eff21b8ea"
      },
      "execution_count": 2,
      "outputs": [
        {
          "output_type": "stream",
          "name": "stdout",
          "text": [
            "Shape of x_train: (60000, 28, 28)\n",
            "Shape of y_train: (60000,)\n",
            "Shape of x_test: (10000, 28, 28)\n",
            "Shape of y_test: (10000,)\n"
          ]
        }
      ]
    },
    {
      "cell_type": "code",
      "source": [
        "sample = 69\n",
        "sample_image = x_train[sample]\n",
        "plt.imshow(sample_image, cmap = \"gray_r\")\n",
        "print(\"Label: {}\".format(y_train[sample]))"
      ],
      "metadata": {
        "colab": {
          "base_uri": "https://localhost:8080/",
          "height": 283
        },
        "id": "9rfG3gvfEdC5",
        "outputId": "91c7add1-9da9-4f17-a106-5a858d9d2ee5"
      },
      "execution_count": 3,
      "outputs": [
        {
          "output_type": "stream",
          "name": "stdout",
          "text": [
            "Label: 1\n"
          ]
        },
        {
          "output_type": "display_data",
          "data": {
            "text/plain": [
              "<Figure size 432x288 with 1 Axes>"
            ],
            "image/png": "[encoded data removed]"
          },
          "metadata": {
            "needs_background": "light"
          }
        }
      ]
    },
    {
      "cell_type": "code",
      "source": [
        "# hyper parameters\n",
        "epochs = 10\n",
        "num_classes = 10\n",
        "batch_size = 256\n",
        "\n",
        "# normalize and reshape\n",
        "x_train = x_train.reshape(x_train.shape[0], 28, 28, 1)\n",
        "x_test = x_test.reshape(x_test.shape[0], 28, 28, 1)\n",
        "input_shape = (28, 28, 1)\n",
        "x_train = x_train.astype('float32')\n",
        "x_test = x_test.astype('float32')\n",
        "x_train /= 255\n",
        "x_test /= 255\n",
        "\n",
        "# one hot labels\n",
        "y_train = tf.utils.to_categorical(y_train, num_classes)\n",
        "y_test = tf.utils.to_categorical(y_test, num_classes)\n"
      ],
      "metadata": {
        "id": "5YFbuaXlMuYS"
      },
      "execution_count": 4,
      "outputs": []
    },
    {
      "cell_type": "code",
      "source": [
        "# define model\n",
        "model = Sequential()\n",
        "model.add(Conv2D(64, kernel_size=(3,3), activation='relu', input_shape = input_shape))\n",
        "model.add(Conv2D(64, (3,3), activation = 'relu'))\n",
        "model.add(MaxPooling2D(pool_size = (2,2)))\n",
        "model.add(Flatten())\n",
        "model.add(Dense(128, activation = 'sigmoid'))\n",
        "model.add(Dense(128, activation = 'relu'))\n",
        "model.add(Dense(num_classes, activation = 'softmax'))\n",
        "model.compile(loss='categorical_crossentropy', optimizer='adam', metrics='accuracy')\n",
        "model.summary()"
      ],
      "metadata": {
        "colab": {
          "base_uri": "https://localhost:8080/"
        },
        "id": "-wEEpvFrO_Er",
        "outputId": "1353912d-e156-47e7-8575-9f77a7657494"
      },
      "execution_count": 16,
      "outputs": [
        {
          "output_type": "stream",
          "name": "stdout",
          "text": [
            "Model: \"sequential_7\"\n",
            "_________________________________________________________________\n",
            " Layer (type)                Output Shape              Param #   \n",
            "=================================================================\n",
            " conv2d_14 (Conv2D)          (None, 26, 26, 64)        640       \n",
            "                                                                 \n",
            " conv2d_15 (Conv2D)          (None, 24, 24, 64)        36928     \n",
            "                                                                 \n",
            " max_pooling2d_7 (MaxPooling  (None, 12, 12, 64)       0         \n",
            " 2D)                                                             \n",
            "                                                                 \n",
            " flatten_7 (Flatten)         (None, 9216)              0         \n",
            "                                                                 \n",
            " dense_17 (Dense)            (None, 128)               1179776   \n",
            "                                                                 \n",
            " dense_18 (Dense)            (None, 128)               16512     \n",
            "                                                                 \n",
            " dense_19 (Dense)            (None, 10)                1290      \n",
            "                                                                 \n",
            "=================================================================\n",
            "Total params: 1,235,146\n",
            "Trainable params: 1,235,146\n",
            "Non-trainable params: 0\n",
            "_________________________________________________________________\n"
          ]
        }
      ]
    },
    {
      "cell_type": "code",
      "source": [
        "test_history = model.fit(x_train, y_train, batch_size = batch_size,\n",
        "          epochs = epochs,\n",
        "          verbose=2,\n",
        "          validation_data=(x_test,y_test))\n",
        "score = model.evaluate(x_test, y_test, verbose=0)\n",
        "print(\"Loss: {}\".format(score[0]))\n",
        "print(\"Accuracy: {}\".format(score[1]))\n",
        "print(test_history)"
      ],
      "metadata": {
        "colab": {
          "base_uri": "https://localhost:8080/"
        },
        "id": "eaHlVBOLRpzk",
        "outputId": "afe2581f-afe3-424e-f191-e9e344528b1a"
      },
      "execution_count": 18,
      "outputs": [
        {
          "output_type": "stream",
          "name": "stdout",
          "text": [
            "Epoch 1/10\n",
            "235/235 - 7s - loss: 0.0579 - accuracy: 0.9811 - val_loss: 0.2706 - val_accuracy: 0.9173 - 7s/epoch - 31ms/step\n",
            "Epoch 2/10\n",
            "235/235 - 7s - loss: 0.0446 - accuracy: 0.9861 - val_loss: 0.2759 - val_accuracy: 0.9189 - 7s/epoch - 29ms/step\n",
            "Epoch 3/10\n",
            "235/235 - 7s - loss: 0.0351 - accuracy: 0.9891 - val_loss: 0.2991 - val_accuracy: 0.9182 - 7s/epoch - 30ms/step\n",
            "Epoch 4/10\n",
            "235/235 - 7s - loss: 0.0285 - accuracy: 0.9912 - val_loss: 0.3148 - val_accuracy: 0.9206 - 7s/epoch - 30ms/step\n",
            "Epoch 5/10\n",
            "235/235 - 7s - loss: 0.0179 - accuracy: 0.9955 - val_loss: 0.3221 - val_accuracy: 0.9217 - 7s/epoch - 29ms/step\n",
            "Epoch 6/10\n",
            "235/235 - 7s - loss: 0.0161 - accuracy: 0.9953 - val_loss: 0.3624 - val_accuracy: 0.9222 - 7s/epoch - 30ms/step\n",
            "Epoch 7/10\n",
            "235/235 - 7s - loss: 0.0236 - accuracy: 0.9926 - val_loss: 0.3516 - val_accuracy: 0.9191 - 7s/epoch - 29ms/step\n",
            "Epoch 8/10\n",
            "235/235 - 7s - loss: 0.0147 - accuracy: 0.9955 - val_loss: 0.3821 - val_accuracy: 0.9186 - 7s/epoch - 29ms/step\n",
            "Epoch 9/10\n",
            "235/235 - 7s - loss: 0.0055 - accuracy: 0.9991 - val_loss: 0.3817 - val_accuracy: 0.9247 - 7s/epoch - 30ms/step\n",
            "Epoch 10/10\n",
            "235/235 - 7s - loss: 0.0016 - accuracy: 0.9999 - val_loss: 0.3877 - val_accuracy: 0.9264 - 7s/epoch - 30ms/step\n",
            "Loss: 0.3876613676548004\n",
            "Accuracy: 0.9264000058174133\n",
            "<keras.callbacks.History object at 0x7f2ba027dbd0>\n"
          ]
        }
      ]
    },
    {
      "cell_type": "code",
      "source": [
        "print(test_history.history.keys())\n",
        "#  \"Accuracy\"\n",
        "plt.plot(test_history.history['accuracy'])\n",
        "plt.plot(test_history.history['val_accuracy'])\n",
        "plt.title('model accuracy')\n",
        "plt.ylabel('accuracy')\n",
        "plt.xlabel('epoch')\n",
        "plt.legend(['train', 'validation'], loc='upper left')\n",
        "plt.show()\n",
        "# \"Loss\"\n",
        "plt.plot(test_history.history['loss'])\n",
        "plt.plot(test_history.history['val_loss'])\n",
        "plt.title('model loss')\n",
        "plt.ylabel('loss')\n",
        "plt.xlabel('epoch')\n",
        "plt.legend(['train', 'validation'], loc='upper left')\n",
        "plt.show()"
      ],
      "metadata": {
        "colab": {
          "base_uri": "https://localhost:8080/",
          "height": 591
        },
        "id": "EaMgYQfcqIx2",
        "outputId": "d3511c67-7e9e-46a2-e448-1cfe6de2fcf2"
      },
      "execution_count": 20,
      "outputs": [
        {
          "output_type": "stream",
          "name": "stdout",
          "text": [
            "dict_keys(['loss', 'accuracy', 'val_loss', 'val_accuracy'])\n"
          ]
        },
        {
          "output_type": "display_data",
          "data": {
            "text/plain": [
              "<Figure size 432x288 with 1 Axes>"
            ],
            "image/png": "[encoded data removed]"
          },
          "metadata": {
            "needs_background": "light"
          }
        },
        {
          "output_type": "display_data",
          "data": {
            "text/plain": [
              "<Figure size 432x288 with 1 Axes>"
            ],
            "image/png": "[encoded data removed]"
          },
          "metadata": {
            "needs_background": "light"
          }
        }
      ]
    }
  ]
}